{
 "cells": [
  {
   "cell_type": "code",
   "execution_count": 1,
   "id": "6dde3ca4",
   "metadata": {},
   "outputs": [],
   "source": [
    "from dbfread import DBF\n",
    "import pandas as pd"
   ]
  },
  {
   "cell_type": "code",
   "execution_count": 2,
   "id": "05764649",
   "metadata": {},
   "outputs": [
    {
     "data": {
      "text/plain": [
       "<unloaded DBF table 'C:\\\\Users\\\\taohuang\\\\Downloads\\\\USDA_ARS-20220627T203346Z-001\\\\USDA_ARS\\\\RTK-for-Tao\\\\2020\\\\ltvr_rtk_2020\\\\20200826los1gcpmac.shp\\\\out\\\\gcp_macro_pj.dbf'>"
      ]
     },
     "execution_count": 2,
     "metadata": {},
     "output_type": "execute_result"
    }
   ],
   "source": [
    "dbf = DBF(r'C:\\Users\\taohuang\\Downloads\\USDA_ARS-20220627T203346Z-001\\USDA_ARS\\RTK-for-Tao\\2020\\ltvr_rtk_2020\\20200826los1gcpmac.shp\\out\\gcp_macro_pj.dbf')\n",
    "dbf"
   ]
  },
  {
   "cell_type": "code",
   "execution_count": 3,
   "id": "9a7337ac",
   "metadata": {},
   "outputs": [
    {
     "data": {
      "text/html": [
       "<div>\n",
       "<style scoped>\n",
       "    .dataframe tbody tr th:only-of-type {\n",
       "        vertical-align: middle;\n",
       "    }\n",
       "\n",
       "    .dataframe tbody tr th {\n",
       "        vertical-align: top;\n",
       "    }\n",
       "\n",
       "    .dataframe thead th {\n",
       "        text-align: right;\n",
       "    }\n",
       "</style>\n",
       "<table border=\"1\" class=\"dataframe\">\n",
       "  <thead>\n",
       "    <tr style=\"text-align: right;\">\n",
       "      <th></th>\n",
       "      <th>OBJNAME</th>\n",
       "      <th>lat</th>\n",
       "      <th>lon</th>\n",
       "      <th>ele</th>\n",
       "    </tr>\n",
       "  </thead>\n",
       "  <tbody>\n",
       "    <tr>\n",
       "      <th>0</th>\n",
       "      <td>118</td>\n",
       "      <td>43.142765</td>\n",
       "      <td>-116.735666</td>\n",
       "      <td>1627.930802</td>\n",
       "    </tr>\n",
       "    <tr>\n",
       "      <th>1</th>\n",
       "      <td>119</td>\n",
       "      <td>43.142694</td>\n",
       "      <td>-116.736663</td>\n",
       "      <td>1624.519255</td>\n",
       "    </tr>\n",
       "    <tr>\n",
       "      <th>2</th>\n",
       "      <td>124</td>\n",
       "      <td>43.142916</td>\n",
       "      <td>-116.736378</td>\n",
       "      <td>1624.785908</td>\n",
       "    </tr>\n",
       "    <tr>\n",
       "      <th>3</th>\n",
       "      <td>122</td>\n",
       "      <td>43.143262</td>\n",
       "      <td>-116.736230</td>\n",
       "      <td>1622.693405</td>\n",
       "    </tr>\n",
       "    <tr>\n",
       "      <th>4</th>\n",
       "      <td>121</td>\n",
       "      <td>43.143278</td>\n",
       "      <td>-116.736645</td>\n",
       "      <td>1621.832520</td>\n",
       "    </tr>\n",
       "    <tr>\n",
       "      <th>5</th>\n",
       "      <td>129</td>\n",
       "      <td>43.143279</td>\n",
       "      <td>-116.736975</td>\n",
       "      <td>1621.116248</td>\n",
       "    </tr>\n",
       "    <tr>\n",
       "      <th>6</th>\n",
       "      <td>130</td>\n",
       "      <td>43.143781</td>\n",
       "      <td>-116.736704</td>\n",
       "      <td>1617.478863</td>\n",
       "    </tr>\n",
       "    <tr>\n",
       "      <th>7</th>\n",
       "      <td>127</td>\n",
       "      <td>43.143633</td>\n",
       "      <td>-116.736429</td>\n",
       "      <td>1620.511897</td>\n",
       "    </tr>\n",
       "    <tr>\n",
       "      <th>8</th>\n",
       "      <td>125</td>\n",
       "      <td>43.143658</td>\n",
       "      <td>-116.735941</td>\n",
       "      <td>1621.059521</td>\n",
       "    </tr>\n",
       "    <tr>\n",
       "      <th>9</th>\n",
       "      <td>126</td>\n",
       "      <td>43.143775</td>\n",
       "      <td>-116.735724</td>\n",
       "      <td>1619.775640</td>\n",
       "    </tr>\n",
       "    <tr>\n",
       "      <th>10</th>\n",
       "      <td>120</td>\n",
       "      <td>43.143425</td>\n",
       "      <td>-116.735514</td>\n",
       "      <td>1621.823627</td>\n",
       "    </tr>\n",
       "    <tr>\n",
       "      <th>11</th>\n",
       "      <td>123</td>\n",
       "      <td>43.143279</td>\n",
       "      <td>-116.735282</td>\n",
       "      <td>1622.388138</td>\n",
       "    </tr>\n",
       "    <tr>\n",
       "      <th>12</th>\n",
       "      <td>128</td>\n",
       "      <td>43.142912</td>\n",
       "      <td>-116.735932</td>\n",
       "      <td>1626.686360</td>\n",
       "    </tr>\n",
       "  </tbody>\n",
       "</table>\n",
       "</div>"
      ],
      "text/plain": [
       "   OBJNAME        lat         lon          ele\n",
       "0      118  43.142765 -116.735666  1627.930802\n",
       "1      119  43.142694 -116.736663  1624.519255\n",
       "2      124  43.142916 -116.736378  1624.785908\n",
       "3      122  43.143262 -116.736230  1622.693405\n",
       "4      121  43.143278 -116.736645  1621.832520\n",
       "5      129  43.143279 -116.736975  1621.116248\n",
       "6      130  43.143781 -116.736704  1617.478863\n",
       "7      127  43.143633 -116.736429  1620.511897\n",
       "8      125  43.143658 -116.735941  1621.059521\n",
       "9      126  43.143775 -116.735724  1619.775640\n",
       "10     120  43.143425 -116.735514  1621.823627\n",
       "11     123  43.143279 -116.735282  1622.388138\n",
       "12     128  43.142912 -116.735932  1626.686360"
      ]
     },
     "execution_count": 3,
     "metadata": {},
     "output_type": "execute_result"
    }
   ],
   "source": [
    "frame = pd.DataFrame(iter(dbf))\n",
    "frame"
   ]
  },
  {
   "cell_type": "code",
   "execution_count": 5,
   "id": "1ad9e75d",
   "metadata": {},
   "outputs": [
    {
     "data": {
      "text/plain": [
       "1622.5078601753846"
      ]
     },
     "execution_count": 5,
     "metadata": {},
     "output_type": "execute_result"
    }
   ],
   "source": [
    "frame[\"ele\"].mean()"
   ]
  },
  {
   "cell_type": "code",
   "execution_count": 6,
   "id": "d619e04c",
   "metadata": {},
   "outputs": [
    {
     "ename": "SyntaxError",
     "evalue": "EOL while scanning string literal (Temp/ipykernel_29328/32654280.py, line 1)",
     "output_type": "error",
     "traceback": [
      "\u001b[1;36m  File \u001b[1;32m\"C:\\Users\\taohuang\\AppData\\Local\\Temp/ipykernel_29328/32654280.py\"\u001b[1;36m, line \u001b[1;32m1\u001b[0m\n\u001b[1;33m    frame.to_csv(r'C:\\Users\\taohuang\\Downloads\\USDA_ARS-20220627T203346Z-001\\USDA_ARS\\RTK-for-Tao\\2020\\ltvr_rtk_2020\\20200826los1gcpmac.shp\\out\\gcp_macro_pj.csv\")\u001b[0m\n\u001b[1;37m                                                                                                                                                                  ^\u001b[0m\n\u001b[1;31mSyntaxError\u001b[0m\u001b[1;31m:\u001b[0m EOL while scanning string literal\n"
     ]
    }
   ],
   "source": [
    "frame.to_csv(r'C:\\Users\\taohuang\\Downloads\\USDA_ARS-20220627T203346Z-001\\USDA_ARS\\RTK-for-Tao\\2020\\ltvr_rtk_2020\\20200826los1gcpmac.shp\\out\\gcp_macro_pj.csv\")\n"
   ]
  },
  {
   "cell_type": "code",
   "execution_count": null,
   "id": "36a02f24",
   "metadata": {},
   "outputs": [],
   "source": []
  }
 ],
 "metadata": {
  "kernelspec": {
   "display_name": "Python 3 (ipykernel)",
   "language": "python",
   "name": "python3"
  },
  "language_info": {
   "codemirror_mode": {
    "name": "ipython",
    "version": 3
   },
   "file_extension": ".py",
   "mimetype": "text/x-python",
   "name": "python",
   "nbconvert_exporter": "python",
   "pygments_lexer": "ipython3",
   "version": "3.8.12"
  }
 },
 "nbformat": 4,
 "nbformat_minor": 5
}
